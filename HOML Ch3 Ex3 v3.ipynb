{
 "cells": [
  {
   "cell_type": "code",
   "execution_count": 1,
   "metadata": {},
   "outputs": [],
   "source": [
    "#get the data\n",
    "import os\n",
    "os.chdir(\"Location\")\n",
    "\n",
    "import pandas as pd\n",
    "titanic_train = pd.read_csv(\"train.csv\")\n",
    "titanic_test = pd.read_csv(\"test.csv\")"
   ]
  },
  {
   "cell_type": "code",
   "execution_count": 2,
   "metadata": {
    "scrolled": false
   },
   "outputs": [],
   "source": [
    "#drop ticket, passengerid, name, and cabin column from both sets.\n",
    "#These are not useful fields. The first three are completely nominal rather than categorical.\n",
    "    #The fourth might have some categorical element in it, but I couldn't find one.\n",
    "#omit the rows where a column is missing only a value or two\n",
    "train_set = titanic_train.drop(['Ticket','PassengerId','Name', 'Cabin'], axis = 1).dropna(subset=['Embarked'])\n",
    "test_set = titanic_test.drop(['Ticket','PassengerId','Name', 'Cabin'], axis = 1)\n",
    "#Embarked IS categorical, so, in theory I could create an additinal value of \"missing\",\n",
    "    #but I don't see the point because there are no \"missing\" values in that column in the test set"
   ]
  },
  {
   "cell_type": "code",
   "execution_count": 3,
   "metadata": {},
   "outputs": [],
   "source": [
    "#Now split train into train and val before doing any imputation\n",
    "from sklearn.model_selection import train_test_split\n",
    "train_set, validation_set = train_test_split(train_set, test_size=.2, random_state=42)\n",
    "train_features = train_set.drop(['Survived'], axis = 1)\n",
    "train_values = train_set['Survived']\n",
    "validation_features = validation_set.drop(['Survived'], axis = 1)\n",
    "validation_values = validation_set['Survived']\n",
    "test_features = test_set.copy()"
   ]
  },
  {
   "cell_type": "code",
   "execution_count": 4,
   "metadata": {},
   "outputs": [],
   "source": [
    "#Which features are numerical and which are categorical?\n",
    "train_features_num = list(train_features.drop([\"Pclass\", 'Embarked', 'Sex'], axis = 1))\n",
    "train_features_cat = list(train_features[['Pclass', 'Embarked', 'Sex']])"
   ]
  },
  {
   "cell_type": "code",
   "execution_count": 5,
   "metadata": {},
   "outputs": [],
   "source": [
    "from sklearn.pipeline import Pipeline\n",
    "from sklearn.compose import ColumnTransformer\n",
    "from sklearn.impute import SimpleImputer\n",
    "from sklearn.preprocessing import OneHotEncoder\n",
    "\n",
    "cat_pipe = ColumnTransformer([\n",
    "    ('onehot', OneHotEncoder(), train_features_cat)], remainder = 'passthrough')\n",
    "\n",
    "train_processed = cat_pipe.fit_transform(train_features)\n",
    "#When I do it this way then I lose everything else\n",
    "\n",
    "#The structure for train_processed is now\n",
    "    #pclass for 3, embarked for 3 more, sex for 2, age for 1, sibsp for 1, parch for 1, fare for 1 makes 12\n",
    "#print(type(train_processed)) #ndarray that I can put into the gridsearch\n",
    "#Still gotta impute age"
   ]
  },
  {
   "cell_type": "code",
   "execution_count": 6,
   "metadata": {},
   "outputs": [
    {
     "name": "stdout",
     "output_type": "stream",
     "text": [
      "Fitting 5 folds for each of 3 candidates, totalling 15 fits\n"
     ]
    },
    {
     "name": "stderr",
     "output_type": "stream",
     "text": [
      "[Parallel(n_jobs=6)]: Using backend LokyBackend with 6 concurrent workers.\n",
      "[Parallel(n_jobs=6)]: Done   8 out of  15 | elapsed:    7.0s remaining:    6.1s\n",
      "[Parallel(n_jobs=6)]: Done  12 out of  15 | elapsed:    7.2s remaining:    1.7s\n",
      "[Parallel(n_jobs=6)]: Done  15 out of  15 | elapsed:    7.3s finished\n"
     ]
    },
    {
     "name": "stdout",
     "output_type": "stream",
     "text": [
      "Best parameter (CV score=-0.177):\n",
      "{'impute__strategy': 'mean'}\n"
     ]
    }
   ],
   "source": [
    "import numpy as np\n",
    "from sklearn.pipeline import Pipeline\n",
    "from sklearn.impute import SimpleImputer\n",
    "from sklearn.preprocessing import OneHotEncoder\n",
    "from sklearn.ensemble import RandomForestClassifier\n",
    "#Need RandomForestClassifier (not Regressor)\n",
    "from sklearn.model_selection import GridSearchCV\n",
    "\n",
    "# Simple pipeline which has an imputer followed by regressor\n",
    "pipe = Pipeline(steps=[('impute', SimpleImputer(missing_values=np.nan)),\n",
    "                       ('regressor', RandomForestClassifier())])\n",
    "\n",
    "# 3 different imputers\n",
    "param_grid = {\n",
    "        'impute__strategy': [\"mean\", \"median\", \"most_frequent\"]\n",
    "        }\n",
    "\n",
    "# Run girdsearch\n",
    "search = GridSearchCV(pipe, param_grid, cv = 5, scoring = 'neg_mean_squared_error', verbose = 4, n_jobs = 6)\n",
    "search.fit(train_processed, train_values)\n",
    "\n",
    "print(\"Best parameter (CV score=%0.3f):\" % search.best_score_)\n",
    "print(search.best_params_)"
   ]
  },
  {
   "cell_type": "code",
   "execution_count": 7,
   "metadata": {},
   "outputs": [],
   "source": [
    "pred_table_train = pd.crosstab(train_values, search.predict(train_processed))"
   ]
  },
  {
   "cell_type": "code",
   "execution_count": 8,
   "metadata": {},
   "outputs": [
    {
     "name": "stdout",
     "output_type": "stream",
     "text": [
      "[[438   2]\n",
      " [  8 263]]\n"
     ]
    }
   ],
   "source": [
    "print(pred_table_train.to_numpy())"
   ]
  },
  {
   "cell_type": "code",
   "execution_count": 9,
   "metadata": {},
   "outputs": [
    {
     "name": "stdout",
     "output_type": "stream",
     "text": [
      "0.9859353023909986\n"
     ]
    }
   ],
   "source": [
    "print(np.diagonal(pred_table_train).sum()/np.sum(np.sum(pred_table_train)))\n",
    "#Over 98 percent That's pretty good. I'd prefer 99, but I'll take what I'm getting."
   ]
  },
  {
   "cell_type": "code",
   "execution_count": 10,
   "metadata": {},
   "outputs": [
    {
     "name": "stdout",
     "output_type": "stream",
     "text": [
      "Fitting 5 folds for each of 3 candidates, totalling 15 fits\n"
     ]
    },
    {
     "name": "stderr",
     "output_type": "stream",
     "text": [
      "[Parallel(n_jobs=6)]: Using backend LokyBackend with 6 concurrent workers.\n",
      "[Parallel(n_jobs=6)]: Done   8 out of  15 | elapsed:    0.8s remaining:    0.7s\n",
      "[Parallel(n_jobs=6)]: Done  12 out of  15 | elapsed:    0.9s remaining:    0.1s\n",
      "[Parallel(n_jobs=6)]: Done  15 out of  15 | elapsed:    1.3s finished\n"
     ]
    },
    {
     "name": "stdout",
     "output_type": "stream",
     "text": [
      "Best parameter (CV score=-0.236):\n",
      "{'impute__strategy': 'mean'}\n",
      "[[108   1]\n",
      " [  0  69]]\n",
      "0.9943820224719101\n"
     ]
    }
   ],
   "source": [
    "#But all of that's just on the training data.\n",
    "#I need to run it on the validation set to get an idea of how it performs on\n",
    "#unseen data\n",
    "validation_features_num = list(validation_features.drop([\"Pclass\", 'Embarked', 'Sex'], axis = 1))\n",
    "validation_features_cat = list(validation_features[['Pclass', 'Embarked', 'Sex']])\n",
    "\n",
    "validation_processed = cat_pipe.fit_transform(validation_features)\n",
    "\n",
    "# Run girdsearch\n",
    "search = GridSearchCV(pipe, param_grid, cv = 5, scoring = 'neg_mean_squared_error', verbose = 4, n_jobs = 6)\n",
    "search.fit(validation_processed, validation_values)\n",
    "\n",
    "print(\"Best parameter (CV score=%0.3f):\" % search.best_score_)\n",
    "print(search.best_params_)\n",
    "\n",
    "pred_table_validation = pd.crosstab(validation_values, search.predict(validation_processed))\n",
    "print(pred_table_validation.to_numpy())\n",
    "print(np.diagonal(pred_table_validation).sum()/np.sum(np.sum(pred_table_validation)))"
   ]
  },
  {
   "cell_type": "code",
   "execution_count": 11,
   "metadata": {},
   "outputs": [
    {
     "name": "stdout",
     "output_type": "stream",
     "text": [
      "[0 0 0 1 0 0 1 0 0 0 0 0 1 0 1 1 0 1 1 0 0 1 1 1 1 0 1 1 0 0 0 0 1 0 0 0 1\n",
      " 0 0 0 0 0 0 1 1 0 0 0 1 1 0 0 1 1 0 0 0 0 0 1 0 0 0 0 1 1 1 0 0 1 0 0 1 0\n",
      " 1 0 0 1 0 0 1 0 0 0 0 0 1 0 1 1 0 0 1 0 0 0 1 0 0 0 1 0 0 0 0 0 0 0 0 0 0\n",
      " 1 1 0 1 0 0 1 0 1 1 0 1 0 0 0 0 1 0 0 0 0 0 0 0 0 0 0 0 0 0 1 0 0 0 0 0 0\n",
      " 0 0 1 0 0 1 0 0 1 0 0 0 1 0 1 0 0 0 0 0 1 0 0 0 0 0 0 1 1 0 1 1 0 0 1 0 1\n",
      " 0 1 0 0 0 0 0 0 0 1 0 1 0 0 1 1 1 0 1 0 0 1 0 1 0 0 0 0 1 1 0 1 0 1 0 1 0\n",
      " 1 0 1 0 0 1 0 0 0 1 1 0 0 0 0 1 1 1 1 1 0 0 0 0 1 0 1 0 1 0 0 0 0 0 0 0 1\n",
      " 0 0 0 1 0 0 0 0 0 1 0 0 0 1 1 0 1 0 0 0 0 0 1 1 0 1 0 0 0 0 0 0 1 0 0 0 0\n",
      " 1 0 0 0 0 0 0 0 1 1 0 0 0 1 0 1 0 1 1 0 0 0 0 0 0 0 0 1 1 0 1 0 0 0 1 1 0\n",
      " 0 0 0 0 0 0 0 0 0 0 1 0 0 0 0 0 1 1 0 0 0 0 0 1 0 0 1 0 1 1 1 1 1 0 0 1 0\n",
      " 0 1 0 0 1 1 0 0 0 1 0 0 1 1 0 1 0 0 0 1 0 1 0 0 0 1 0 1 0 0 1 0 1 0 0 0 0\n",
      " 0 1 0 1 1 0 0 1 0 0 0]\n",
      "418\n"
     ]
    }
   ],
   "source": [
    "#99.44% is better than 98.45%\n",
    "#So what does Random Forest predict?\n",
    "#Test predictios\n",
    "test_processed = cat_pipe.fit_transform(test_features)\n",
    "test_predictions = search.predict(test_processed)\n",
    "print(test_predictions)\n",
    "print(len(test_predictions))"
   ]
  },
  {
   "cell_type": "code",
   "execution_count": 20,
   "metadata": {},
   "outputs": [
    {
     "name": "stdout",
     "output_type": "stream",
     "text": [
      "(418, 2)\n",
      "[[892   0]\n",
      " [893   0]\n",
      " [894   0]\n",
      " [895   1]\n",
      " [896   0]\n",
      " [897   0]\n",
      " [898   1]]\n"
     ]
    }
   ],
   "source": [
    "#Interesting. I thought that preprocessing on the train set mixed up the order.\n",
    "to_submit = np.stack((titanic_test['PassengerId'],test_predictions), axis = 1)\n",
    "print(to_submit.shape)\n",
    "print(to_submit[:7])"
   ]
  },
  {
   "cell_type": "code",
   "execution_count": null,
   "metadata": {},
   "outputs": [],
   "source": [
    "#Now write it out to a CSV\n",
    "import os\n",
    "print(os.getcwd())\n",
    "\n",
    "import csv\n",
    "\n",
    "header = ['PassengerId', 'Survived']\n",
    "\n",
    "with open('Titanic_Predictions_H.csv', 'w', encoding='UTF8', newline='') as f:\n",
    "    writer = csv.writer(f)\n",
    "\n",
    "    # write the header\n",
    "    writer.writerow(header)\n",
    "\n",
    "    # write multiple rows\n",
    "    writer.writerows(to_submit)"
   ]
  },
  {
   "cell_type": "code",
   "execution_count": null,
   "metadata": {},
   "outputs": [],
   "source": [
    "#Kaggle Results\n",
    "\n",
    "'''\n",
    "43158\n",
    "THILL3\n",
    "0.74162\n",
    "'''\n",
    "#74% could use some work"
   ]
  },
  {
   "cell_type": "code",
   "execution_count": null,
   "metadata": {},
   "outputs": [],
   "source": [
    "#Suggestions\n",
    "'''\n",
    "Deal with numeric outliers\n",
    "Consider catgorizing some numeric variables\n",
    "Ticket prefix might helpUse peoples' titles (Mr, Mrs, etc.)\n",
    "XGBoost\n",
    "'''"
   ]
  }
 ],
 "metadata": {
  "kernelspec": {
   "display_name": "Python 3",
   "language": "python",
   "name": "python3"
  },
  "language_info": {
   "codemirror_mode": {
    "name": "ipython",
    "version": 3
   },
   "file_extension": ".py",
   "mimetype": "text/x-python",
   "name": "python",
   "nbconvert_exporter": "python",
   "pygments_lexer": "ipython3",
   "version": "3.8.1"
  }
 },
 "nbformat": 4,
 "nbformat_minor": 4
}
